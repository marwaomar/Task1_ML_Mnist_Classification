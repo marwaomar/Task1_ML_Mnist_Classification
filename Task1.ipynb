{
 "cells": [
  {
   "cell_type": "code",
   "execution_count": 1,
   "metadata": {},
   "outputs": [],
   "source": [
    "#Importing Required Libiraries :\n",
    "\n",
    "from sklearn.linear_model import SGDClassifier\n",
    "import numpy as np  # linear algebra\n",
    "import pandas as pd # data processing, CSV file I/O (e.g. pd.read_csv)\n",
    "import matplotlib\n",
    "import matplotlib.pyplot as plt\n",
    "from sklearn.model_selection import train_test_split\n",
    "from sklearn.metrics import confusion_matrix\n",
    "from sklearn.model_selection import cross_val_predict\n",
    "import matplotlib as mpl"
   ]
  },
  {
   "cell_type": "markdown",
   "metadata": {},
   "source": [
    "## Now Inserting data"
   ]
  },
  {
   "cell_type": "code",
   "execution_count": 2,
   "metadata": {},
   "outputs": [
    {
     "name": "stdout",
     "output_type": "stream",
     "text": [
      "(42000, 784)\n"
     ]
    }
   ],
   "source": [
    "mnist_train = pd.read_csv(\"train.csv\")\n",
    "mnist_test  = pd.read_csv(\"test.csv\")\n",
    "train = mnist_train.copy()\n",
    "test = mnist_test.copy()\n",
    "X, y = train.drop(labels = [\"label\"],axis = 1).to_numpy(), train[\"label\"]\n",
    "print(X.shape)"
   ]
  },
  {
   "cell_type": "markdown",
   "metadata": {},
   "source": [
    "## Split Data to Train and Test "
   ]
  },
  {
   "cell_type": "code",
   "execution_count": 3,
   "metadata": {},
   "outputs": [],
   "source": [
    "y = y.astype(np.uint8)\n",
    "X_train, X_test, y_train, y_test = train_test_split(X, y, test_size=0.2, random_state=42)"
   ]
  },
  {
   "cell_type": "markdown",
   "metadata": {},
   "source": [
    "# <u> Binary Classification </u>"
   ]
  },
  {
   "cell_type": "markdown",
   "metadata": {},
   "source": [
    "## Insert an Index to Check "
   ]
  },
  {
   "cell_type": "code",
   "execution_count": 4,
   "metadata": {},
   "outputs": [
    {
     "name": "stdout",
     "output_type": "stream",
     "text": [
      "Insert a Number to Check=\n",
      "2\n"
     ]
    }
   ],
   "source": [
    "print(\"Insert a Number to Check=\")\n",
    "index=input()"
   ]
  },
  {
   "cell_type": "markdown",
   "metadata": {},
   "source": [
    "## Prepare data to classify on this specific Index"
   ]
  },
  {
   "cell_type": "code",
   "execution_count": 5,
   "metadata": {},
   "outputs": [],
   "source": [
    "y_train_index = (y_train == int(index))\n",
    "y_test_index = (y_test == int(index))"
   ]
  },
  {
   "cell_type": "markdown",
   "metadata": {},
   "source": [
    "## Use SGDCassifier to classify data"
   ]
  },
  {
   "cell_type": "code",
   "execution_count": 6,
   "metadata": {},
   "outputs": [
    {
     "name": "stdout",
     "output_type": "stream",
     "text": [
      "Prediced : [False False False ... False False False]\n",
      "Actual values : [8 1 9 ... 3 0 9]\n"
     ]
    }
   ],
   "source": [
    "sgd_classifier = SGDClassifier(loss= \"log\", penalty= \"l2\", max_iter=1000,random_state = 42)\n",
    "sgd_classifier.fit(X_train, y_train_index)\n",
    "prediction=sgd_classifier.predict(X_test)\n",
    "print(\"Prediced :\",prediction)\n",
    "print(\"Actual values :\",y_test.values)"
   ]
  },
  {
   "cell_type": "markdown",
   "metadata": {},
   "source": [
    "## Confusion Matrix:"
   ]
  },
  {
   "cell_type": "code",
   "execution_count": 8,
   "metadata": {},
   "outputs": [
    {
     "name": "stdout",
     "output_type": "stream",
     "text": [
      "[[7442  112]\n",
      " [ 128  718]]\n"
     ]
    }
   ],
   "source": [
    "print(confusion_matrix(y_test_index, prediction))"
   ]
  },
  {
   "cell_type": "markdown",
   "metadata": {},
   "source": [
    "# Multiclass Classification:"
   ]
  },
  {
   "cell_type": "code",
   "execution_count": 9,
   "metadata": {},
   "outputs": [
    {
     "name": "stdout",
     "output_type": "stream",
     "text": [
      "Prediced : [8 1 9 7 8 8 2 8 7 1 6 3 1 2 7 4 3 3 6 4]\n",
      "Actual values : [8 1 9 9 8 6 2 2 7 1 6 3 1 2 7 4 3 3 6 4]\n"
     ]
    }
   ],
   "source": [
    "sgd_classifier.fit(X_train, y_train)\n",
    "prediction=sgd_classifier.predict(X_test)\n",
    "print(\"Prediced :\",prediction[:20])\n",
    "print(\"Actual values :\",y_test[:20].values)"
   ]
  },
  {
   "cell_type": "code",
   "execution_count": null,
   "metadata": {},
   "outputs": [],
   "source": []
  }
 ],
 "metadata": {
  "kernelspec": {
   "display_name": "Python 3",
   "language": "python",
   "name": "python3"
  },
  "language_info": {
   "codemirror_mode": {
    "name": "ipython",
    "version": 3
   },
   "file_extension": ".py",
   "mimetype": "text/x-python",
   "name": "python",
   "nbconvert_exporter": "python",
   "pygments_lexer": "ipython3",
   "version": "3.7.4"
  }
 },
 "nbformat": 4,
 "nbformat_minor": 2
}
